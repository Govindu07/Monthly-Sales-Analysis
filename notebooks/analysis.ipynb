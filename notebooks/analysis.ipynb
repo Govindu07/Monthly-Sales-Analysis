{
 "cells": [
  {
   "cell_type": "code",
   "execution_count": null,
   "id": "d761b397",
   "metadata": {},
   "outputs": [],
   "source": [
    "import sys\n",
    "import os\n",
    "\n",
    "# Add project root to Python path\n",
    "sys.path.append(os.path.abspath(\"..\"))\n",
    "\n",
    "from scripts.data_processing import load_sales_data, monthly_sales_report\n",
    "from scripts.plotting import plot_monthly_sales, plot_product_sales, plot_region_sales\n",
    "\n",
    "# Load dataset\n",
    "df = load_sales_data(\"../data/sales_data.xlsx\")"
   ]
  },
  {
   "cell_type": "code",
   "execution_count": null,
   "id": "e29df761",
   "metadata": {},
   "outputs": [],
   "source": [
    "# Basic Info\n",
    "print(\"Data Shape:\", df.shape)\n",
    "print(df.head())\n",
    "print(df.info())\n",
    "print(df.describe())\n"
   ]
  },
  {
   "cell_type": "code",
   "execution_count": null,
   "id": "5c8ce775",
   "metadata": {},
   "outputs": [],
   "source": [
    "\n",
    "# Generate monthly sales report\n",
    "monthly_sales = monthly_sales_report(df)\n"
   ]
  },
  {
   "cell_type": "code",
   "execution_count": null,
   "id": "aba0b282",
   "metadata": {},
   "outputs": [],
   "source": [
    "\n",
    "# Plotting\n",
    "plot_monthly_sales(monthly_sales)\n",
    "plot_product_sales(df)\n",
    "plot_region_sales(df)\n"
   ]
  }
 ],
 "metadata": {
  "kernelspec": {
   "display_name": "base",
   "language": "python",
   "name": "python3"
  },
  "language_info": {
   "codemirror_mode": {
    "name": "ipython",
    "version": 3
   },
   "file_extension": ".py",
   "mimetype": "text/x-python",
   "name": "python",
   "nbconvert_exporter": "python",
   "pygments_lexer": "ipython3",
   "version": "3.13.5"
  }
 },
 "nbformat": 4,
 "nbformat_minor": 5
}
