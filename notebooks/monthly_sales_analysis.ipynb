{
 "cells": [
  {
   "cell_type": "code",
   "execution_count": null,
   "id": "129f8d9d-53ab-470a-bdc7-0861e51e61db",
   "metadata": {},
   "outputs": [],
   "source": [
    "# Monthly Sales Analysis Project\n",
    "\n",
    "import pandas as pd\n",
    "import matplotlib.pyplot as plt\n",
    "\n",
    "# Load dataset\n",
    "df = pd.read_excel(\"sales_data.xlsx\", parse_dates=[\"Date\"])\n",
    "df['Date'] = pd.to_datetime(df['Date'], errors='coerce')\n",
    "df.set_index('Date', inplace=True)\n",
    "\n",
    "# --- Basic Info ---"
   ]
  },
  {
   "cell_type": "code",
   "execution_count": null,
   "id": "f2224c03-b815-4def-a3d0-48effb40f167",
   "metadata": {},
   "outputs": [],
   "source": [
    "print(\"Data Shape:\", df.shape)\n",
    "print(df.head())\n",
    "print(df.info())\n",
    "print(df.describe())"
   ]
  },
  {
   "cell_type": "code",
   "execution_count": null,
   "id": "5ceb08eb-6008-489f-b196-82badef812ae",
   "metadata": {},
   "outputs": [],
   "source": []
  },
  {
   "cell_type": "code",
   "execution_count": null,
   "id": "6b0c4dd3-e488-45b2-b29c-8ecd991d1dce",
   "metadata": {},
   "outputs": [],
   "source": [
    "# --- Monthly Sales ---\n",
    "monthly_sales = df['Sales'].resample('M').sum()\n",
    "print(monthly_sales)\n",
    "\n",
    "plt.figure(figsize=(10,5))\n",
    "plt.plot(monthly_sales.index, monthly_sales.values, marker='o', color='blue')\n",
    "plt.title(\"Monthly Sales Trend\")\n",
    "plt.xlabel(\"Month\")\n",
    "plt.ylabel(\"Total Sales\")\n",
    "plt.grid(True)\n",
    "plt.show()"
   ]
  },
  {
   "cell_type": "code",
   "execution_count": null,
   "id": "31a329be-fad9-4266-bb47-54c79184736a",
   "metadata": {},
   "outputs": [],
   "source": []
  },
  {
   "cell_type": "code",
   "execution_count": null,
   "id": "a99b2bd9-e574-42b3-b006-e110acad0b6f",
   "metadata": {},
   "outputs": [],
   "source": [
    "# --- Product Sales ---\n",
    "product_sales = df.groupby(\"Product\")[\"Sales\"].sum().sort_values(ascending=False)\n",
    "print(product_sales)\n",
    "\n",
    "product_sales.plot(kind=\"bar\", figsize=(8,5), color=\"orange\")\n",
    "plt.title(\"Total Sales by Product\")\n",
    "plt.xlabel(\"Product\")\n",
    "plt.ylabel(\"Sales\")\n",
    "plt.show()"
   ]
  },
  {
   "cell_type": "code",
   "execution_count": null,
   "id": "873f8811-0d78-4264-8cfc-789846a72a52",
   "metadata": {},
   "outputs": [],
   "source": []
  },
  {
   "cell_type": "code",
   "execution_count": null,
   "id": "93b43559-fd45-4f1f-9bda-56e69c1028b8",
   "metadata": {},
   "outputs": [],
   "source": [
    "# --- Regional Sales ---\n",
    "region_sales = df.groupby(\"Region\")[\"Sales\"].sum()\n",
    "print(region_sales)\n",
    "\n",
    "region_sales.plot(kind=\"pie\", autopct=\"%1.1f%%\", figsize=(6,6))\n",
    "plt.title(\"Regional Sales Share\")\n",
    "plt.ylabel(\"\")\n",
    "plt.show()"
   ]
  },
  {
   "cell_type": "code",
   "execution_count": null,
   "id": "9bf988ce-5437-4cd3-9c9f-0042a1c27f00",
   "metadata": {},
   "outputs": [],
   "source": []
  },
  {
   "cell_type": "code",
   "execution_count": null,
   "id": "917adb61-9abd-4538-bbec-3e3402c60dc7",
   "metadata": {},
   "outputs": [],
   "source": [
    "# Save monthly sales report\n",
    "monthly_sales.to_csv(\"monthly_sales_report.csv\")"
   ]
  },
  {
   "cell_type": "code",
   "execution_count": null,
   "id": "f34cc5d2-d27e-4e0f-8a24-2f759b3f508b",
   "metadata": {},
   "outputs": [],
   "source": []
  }
 ],
 "metadata": {
  "kernelspec": {
   "display_name": "Python 3 (ipykernel)",
   "language": "python",
   "name": "python3"
  },
  "language_info": {
   "codemirror_mode": {
    "name": "ipython",
    "version": 3
   },
   "file_extension": ".py",
   "mimetype": "text/x-python",
   "name": "python",
   "nbconvert_exporter": "python",
   "pygments_lexer": "ipython3",
   "version": "3.13.5"
  }
 },
 "nbformat": 4,
 "nbformat_minor": 5
}
