{
 "cells": [
  {
   "cell_type": "code",
   "execution_count": null,
   "id": "528af132",
   "metadata": {},
   "outputs": [],
   "source": [
    "\n",
    "# Monthly Sales Analysis Project\n",
    "\n",
    "import pandas as pd\n",
    "import matplotlib.pyplot as plt\n",
    "\n",
    "# Load dataset\n",
    "df = pd.read_excel(\"sales_data.xlsx\", parse_dates=[\"Date\"])\n",
    "df['Date'] = pd.to_datetime(df['Date'], errors='coerce')\n",
    "df.set_index('Date', inplace=True)\n",
    "\n",
    "# --- Basic Info ---\n",
    "print(\"Data Shape:\", df.shape)\n",
    "print(df.head())\n",
    "print(df.info())\n",
    "print(df.describe())\n",
    "\n",
    "# --- Monthly Sales ---\n",
    "monthly_sales = df['Sales'].resample('M').sum()\n",
    "print(monthly_sales)\n",
    "\n",
    "plt.figure(figsize=(10,5))\n",
    "plt.plot(monthly_sales.index, monthly_sales.values, marker='o', color='blue')\n",
    "plt.title(\"Monthly Sales Trend\")\n",
    "plt.xlabel(\"Month\")\n",
    "plt.ylabel(\"Total Sales\")\n",
    "plt.grid(True)\n",
    "plt.show()\n",
    "\n",
    "# --- Product Sales ---\n",
    "product_sales = df.groupby(\"Product\")[\"Sales\"].sum().sort_values(ascending=False)\n",
    "print(product_sales)\n",
    "\n",
    "product_sales.plot(kind=\"bar\", figsize=(8,5), color=\"orange\")\n",
    "plt.title(\"Total Sales by Product\")\n",
    "plt.xlabel(\"Product\")\n",
    "plt.ylabel(\"Sales\")\n",
    "plt.show()\n",
    "\n",
    "# --- Regional Sales ---\n",
    "region_sales = df.groupby(\"Region\")[\"Sales\"].sum()\n",
    "print(region_sales)\n",
    "\n",
    "region_sales.plot(kind=\"pie\", autopct=\"%1.1f%%\", figsize=(6,6))\n",
    "plt.title(\"Regional Sales Share\")\n",
    "plt.ylabel(\"\")\n",
    "plt.show()\n",
    "\n",
    "# Save monthly sales report\n",
    "monthly_sales.to_csv(\"monthly_sales_report.csv\")\n"
   ]
  },
  {
   "cell_type": "code",
   "execution_count": null,
   "id": "f34cc5d2-d27e-4e0f-8a24-2f759b3f508b",
   "metadata": {},
   "outputs": [],
   "source": []
  }
 ],
 "metadata": {
  "kernelspec": {
   "display_name": "base",
   "language": "python",
   "name": "python3"
  },
  "language_info": {
   "codemirror_mode": {
    "name": "ipython",
    "version": 3
   },
   "file_extension": ".py",
   "mimetype": "text/x-python",
   "name": "python",
   "nbconvert_exporter": "python",
   "pygments_lexer": "ipython3",
   "version": "3.13.5"
  }
 },
 "nbformat": 4,
 "nbformat_minor": 5
}
